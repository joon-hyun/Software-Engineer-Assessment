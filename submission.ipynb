{
  "nbformat": 4,
  "nbformat_minor": 0,
  "metadata": {
    "colab": {
      "provenance": []
    },
    "kernelspec": {
      "name": "python3",
      "display_name": "Python 3"
    },
    "language_info": {
      "name": "python"
    }
  },
  "cells": [
    {
      "cell_type": "code",
      "source": [
        "%cd '/content/drive/MyDrive/Software Engineer Assessment/'"
      ],
      "metadata": {
        "colab": {
          "base_uri": "https://localhost:8080/"
        },
        "id": "X1w5Qr6ExU66",
        "outputId": "15c4af4a-271b-4afe-f518-6f90a9f857a6"
      },
      "execution_count": 1,
      "outputs": [
        {
          "output_type": "stream",
          "name": "stdout",
          "text": [
            "/content/drive/MyDrive/Software Engineer Assessment\n"
          ]
        }
      ]
    },
    {
      "cell_type": "markdown",
      "source": [
        "# 1."
      ],
      "metadata": {
        "id": "UhHjHyFRyeZG"
      }
    },
    {
      "cell_type": "code",
      "source": [
        "import pandas as pd"
      ],
      "metadata": {
        "id": "KbRCrefqmoV6"
      },
      "execution_count": 2,
      "outputs": []
    },
    {
      "cell_type": "code",
      "source": [
        "class ProcessGameState:\n",
        "  def load(self, filepath):\n",
        "    # Read data from specified parquet file into a pandas dataframe.\n",
        "    self.data = pd.read_parquet(filepath)\n",
        "\n",
        "  def raycast(self, coordinates, z, point):\n",
        "    # The raycast algorithm will determine if a point is within some polygon\n",
        "    # (i.e. the boundary) if a ray starting from a specified point intersects\n",
        "    # an odd number of edges.\n",
        "\n",
        "    edge_count = 0\n",
        "    z_lower, z_upper = z\n",
        "    xp, yp, zp = point\n",
        "\n",
        "    # Check if the point's z value is within z-axis bounds.\n",
        "    if not z_lower <= zp <= z_upper:\n",
        "      return False\n",
        "\n",
        "    # Count number of edges the ray will intersect.\n",
        "    coordinate_count = len(coordinates)\n",
        "    for i in range(coordinate_count):\n",
        "      c1 = coordinates[i]\n",
        "      c2 = coordinates[(i + 1) % coordinate_count]\n",
        "\n",
        "      # Set c1 to have a smaller y-value than that of c2.\n",
        "      if c1[1] > c2[1]:\n",
        "        c1, c2 = c2, c1\n",
        "      \n",
        "      x1, y1 = c1\n",
        "      x2, y2 = c2\n",
        "      if y1 <= yp <= y2 and xp <= max(x1, x2):\n",
        "        edge_count += 1\n",
        "    \n",
        "    return edge_count % 2 == 1\n",
        "        \n",
        "  def inbounds(self, coordinates, z):\n",
        "    # Retrieve dataframe of whether rows are within the boundary.\n",
        "    return self.data.apply(lambda row: self.raycast(coordinates, z, (row['x'], row['y'], row['z'])), axis=1)\n",
        "  \n",
        "  def get_weapon_classes(self, inventory):\n",
        "    # Extract weapon classes from inventory.\n",
        "    weapons = inventory.explode('inventory')\n",
        "    classes = {}\n",
        "    for w in weapons:\n",
        "      if w:\n",
        "        classes[w['weapon_class']] = classes.get(w['weapon_class'], 0) + 1\n",
        "    return classes"
      ],
      "metadata": {
        "id": "jzei6Z2nmTaS"
      },
      "execution_count": 3,
      "outputs": []
    },
    {
      "cell_type": "markdown",
      "source": [
        "# 2."
      ],
      "metadata": {
        "id": "WnhOwGQ9ylCx"
      }
    },
    {
      "cell_type": "code",
      "source": [
        "# Initialization step for our dataset\n",
        "game_state = ProcessGameState()\n",
        "game_state.load('./data/game_state_frame_data.parquet')\n",
        "coordinates = [(-1735, 250), (-2024, 398), (-2806, 742), (-2472, 1233), (-1565, 580)]\n",
        "z = [285, 421]\n",
        "data = game_state.data"
      ],
      "metadata": {
        "id": "aYDa8O5QzLWR"
      },
      "execution_count": 4,
      "outputs": []
    },
    {
      "cell_type": "markdown",
      "source": [
        "## (a)\n"
      ],
      "metadata": {
        "id": "Veb9qLb-ypUE"
      }
    },
    {
      "cell_type": "code",
      "source": [
        "# Find number of rounds Team2 is on T side\n",
        "round_count = data[(data['team'] == 'Team2') & (data['side'] == 'T')].groupby('round_num').ngroups\n",
        "\n",
        "# Only include data within light blue boundary\n",
        "bounds = data[game_state.inbounds(coordinates, z)]\n",
        "\n",
        "# Find number of rounds Team 2 on T side is within light blue boundary\n",
        "entry_count = bounds[(bounds['team'] == 'Team2') & (bounds['side'] == 'T')].groupby('round_num').ngroups\n",
        "\n",
        "print(f'Team 2 on T side entered the boundary in {entry_count} rounds out of {round_count}')"
      ],
      "metadata": {
        "colab": {
          "base_uri": "https://localhost:8080/"
        },
        "id": "AHFZohxN01Os",
        "outputId": "89049325-f5bc-4fdd-cfea-b3ec43976e95"
      },
      "execution_count": 5,
      "outputs": [
        {
          "output_type": "stream",
          "name": "stdout",
          "text": [
            "Team 2 on T side entered the boundary in 2 rounds out of 15\n"
          ]
        }
      ]
    },
    {
      "cell_type": "markdown",
      "source": [
        "Entering via the light blue boundary does not seem to be a common strategy used by Team 2 on T side."
      ],
      "metadata": {
        "id": "AyQLp0WO1Kx6"
      }
    },
    {
      "cell_type": "markdown",
      "source": [
        "## (b)"
      ],
      "metadata": {
        "id": "958Z6MTXyymz"
      }
    },
    {
      "cell_type": "code",
      "source": [
        "from datetime import timedelta"
      ],
      "metadata": {
        "id": "MudLRuFbQcn5"
      },
      "execution_count": 6,
      "outputs": []
    },
    {
      "cell_type": "code",
      "source": [
        "def rifle_smg_sum(row):\n",
        "  classes = game_state.get_weapon_classes(row['inventory'])\n",
        "  rifle_count = classes.get('Rifle', 0)\n",
        "  smg_count = classes.get('SMG', 0)\n",
        "  if rifle_count + smg_count >= 2:\n",
        "    return row['clock_time']"
      ],
      "metadata": {
        "id": "kWPqj4GM6K9y"
      },
      "execution_count": 7,
      "outputs": []
    },
    {
      "cell_type": "code",
      "source": [
        "# Retrieve data of Team2 players on T side inside BombsiteB\n",
        "t2t_siteb = data[(data['team'] == 'Team2') & (data['side'] == 'T') & (data['area_name'] == 'BombsiteB')]\n",
        "\n",
        "# Count rifles and SMGs in each round at a certain time\n",
        "t2t_siteb = t2t_siteb.groupby(['round_num', 'clock_time']).apply(lambda x: rifle_smg_sum(x)).dropna()\n",
        "\n",
        "# Retrieve earliest entry time for each round\n",
        "t2t_siteb = t2t_siteb.to_frame().groupby(['round_num']).first()\n",
        "\n",
        "# Calculate average clock time\n",
        "round_count = len(t2t_siteb[0])\n",
        "total = timedelta()\n",
        "for time in t2t_siteb[0]:\n",
        "  mins, secs = time.split(':')\n",
        "  total += timedelta(minutes=int(mins), seconds=int(secs))\n",
        "\n",
        "print(f'Average clock timer Team 2 on T side enters BombsiteB with at least 2 rifles or SMGs: {total / round_count}')"
      ],
      "metadata": {
        "colab": {
          "base_uri": "https://localhost:8080/"
        },
        "id": "hFi75ZVJ7Cs0",
        "outputId": "f1cd31dd-d457-48ee-dc2d-d18d988e8b19"
      },
      "execution_count": 8,
      "outputs": [
        {
          "output_type": "stream",
          "name": "stdout",
          "text": [
            "Average clock timer Team 2 on T side enters BombsiteB with at least 2 rifles or SMGs: 0:00:55.400000\n"
          ]
        }
      ]
    },
    {
      "cell_type": "markdown",
      "source": [
        "Team 2 on T side enters \"BombsiteB\" with at least 2 rifles or SMGs on average when the clock timer is 00:55.40 (i.e. between 00:55 and 00:56).\n"
      ],
      "metadata": {
        "id": "bj6seNDo1oai"
      }
    },
    {
      "cell_type": "markdown",
      "source": [
        "## (c)"
      ],
      "metadata": {
        "id": "8fdmrrYozR-n"
      }
    },
    {
      "cell_type": "code",
      "source": [
        "import matplotlib.pyplot as plt\n",
        "import matplotlib.image as mpimg\n",
        "import numpy as np"
      ],
      "metadata": {
        "id": "rPez98VGQdvP"
      },
      "execution_count": 9,
      "outputs": []
    },
    {
      "cell_type": "code",
      "source": [
        "# Retrieve data of Team2 players on CT side inside BombsiteB\n",
        "t2ct_siteb = data[(data['team'] == 'Team2') & (data['side'] == 'CT') & (data['area_name'] == 'BombsiteB')]\n",
        "\n",
        "# Plot heatmap on top of map image\n",
        "map_img = mpimg.imread('./map/de_overpass_radar.jpeg')\n",
        "x = t2ct_siteb['x'].tolist()\n",
        "y = t2ct_siteb['y'].tolist()\n",
        "\n",
        "H, xedges, yedges = np.histogram2d(x, y, bins=20)\n",
        "extent = [xedges[0], xedges[-1], yedges[0], yedges[-1]]\n",
        "plt.imshow(map_img[300:370, 690:745, :], extent=extent)\n",
        "plt.imshow(H.T, extent=extent, cmap=plt.get_cmap(\"Purples\"), alpha=0.7)\n",
        "plt.title('Overpass Heatmap')\n",
        "plt.show()"
      ],
      "metadata": {
        "colab": {
          "base_uri": "https://localhost:8080/",
          "height": 452
        },
        "id": "kEyM2B9WPDD-",
        "outputId": "0de5a1b1-346b-44b6-bc44-9cc61eba2eb3"
      },
      "execution_count": 10,
      "outputs": [
        {
          "output_type": "display_data",
          "data": {
            "text/plain": [
              "<Figure size 640x480 with 1 Axes>"
            ],
            "image/png": "[encoded data removed]"
          },
          "metadata": {}
        }
      ]
    },
    {
      "cell_type": "markdown",
      "source": [
        "# 3."
      ],
      "metadata": {
        "id": "ML3ctRmDzWz8"
      }
    },
    {
      "cell_type": "markdown",
      "source": [
        "One solution is to design a user interface that the CS:GO coaching staff can interact with, such as a website or application. That user interface would be connected to our API so that the coaching staff would not need to write any code to retrieve the output themselves. The coaching staff only needs to provide an ordered list of coordinates and z-axis bounds via a text file, text input, or interactive map if time permits, and a file with the game state data."
      ],
      "metadata": {
        "id": "AEmnuidDvyr2"
      }
    }
  ]
}